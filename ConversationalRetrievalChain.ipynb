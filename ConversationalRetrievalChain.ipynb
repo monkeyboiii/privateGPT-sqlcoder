{
 "cells": [
  {
   "cell_type": "code",
   "execution_count": 1,
   "metadata": {},
   "outputs": [],
   "source": [
    "from langchain.embeddings import HuggingFaceEmbeddings\n",
    "from langchain.vectorstores import Chroma\n",
    "from chromadb.config import Settings\n",
    "import chromadb\n",
    "\n",
    "persist_directory=\"vectorstore/\"\n",
    "top_k = 4\n",
    "\n",
    "CHROMA_SETTINGS = Settings(\n",
    "    persist_directory=persist_directory,\n",
    "    anonymized_telemetry=False\n",
    ")\n",
    "\n",
    "embeddings = HuggingFaceEmbeddings(model_name=\"all-MiniLM-L6-v2\")\n",
    "chroma_client = chromadb.PersistentClient(settings=CHROMA_SETTINGS , path=persist_directory)\n",
    "db = Chroma(persist_directory=persist_directory, embedding_function=embeddings, client_settings=CHROMA_SETTINGS, client=chroma_client)\n",
    "\n",
    "retriever = db.as_retriever(search_kwargs={\"k\": top_k})\n"
   ]
  },
  {
   "cell_type": "code",
   "execution_count": 2,
   "metadata": {},
   "outputs": [
    {
     "name": "stdout",
     "output_type": "stream",
     "text": [
      "Found model file at  ../privateGPT/models/ggml-model-gpt4all-falcon-q4_0.bin\n",
      "falcon_model_load: loading model from '../privateGPT/models/ggml-model-gpt4all-falcon-q4_0.bin' - please wait ...\n",
      "falcon_model_load: n_vocab   = 65024\n",
      "falcon_model_load: n_embd    = 4544\n",
      "falcon_model_load: n_head    = 71\n",
      "falcon_model_load: n_head_kv = 1\n",
      "falcon_model_load: n_layer   = 32\n",
      "falcon_model_load: ftype     = 2\n",
      "falcon_model_load: qntvr     = 0\n",
      "falcon_model_load: ggml ctx size = 3872.64 MB\n",
      "falcon_model_load: memory_size =    32.00 MB, n_mem = 65536\n",
      "falcon_model_load: .."
     ]
    },
    {
     "name": "stderr",
     "output_type": "stream",
     "text": [
      "objc[2463]: Class GGMLMetalClass is implemented in both /opt/miniconda3/envs/gnn/lib/python3.11/site-packages/gpt4all/llmodel_DO_NOT_MODIFY/build/libreplit-mainline-metal.dylib (0x294720228) and /opt/miniconda3/envs/gnn/lib/python3.11/site-packages/gpt4all/llmodel_DO_NOT_MODIFY/build/libllamamodel-mainline-metal.dylib (0x2945e8228). One of the two will be used. Which one is undefined.\n"
     ]
    },
    {
     "name": "stdout",
     "output_type": "stream",
     "text": [
      "...................... done\n",
      "falcon_model_load: model size =  3872.59 MB / num tensors = 196\n"
     ]
    }
   ],
   "source": [
    "from langchain.llms import GPT4All\n",
    "from langchain.callbacks.streaming_stdout import StreamingStdOutCallbackHandler\n",
    "\n",
    "model_path = \"../privateGPT/models/ggml-model-gpt4all-falcon-q4_0.bin\"\n",
    "\n",
    "llm = GPT4All(model=model_path, max_tokens=1000, backend='gptj',\n",
    "                          n_batch=8, callbacks=[StreamingStdOutCallbackHandler()], verbose=False)\n"
   ]
  },
  {
   "cell_type": "code",
   "execution_count": 3,
   "metadata": {},
   "outputs": [],
   "source": [
    "from langchain.prompts import (\n",
    "    ChatPromptTemplate,\n",
    "    MessagesPlaceholder,\n",
    "    SystemMessagePromptTemplate,\n",
    "    HumanMessagePromptTemplate,\n",
    "    )\n",
    "from langchain.memory import ConversationSummaryBufferMemory\n",
    "\n",
    "# TODO: move SystemMessagePromptTemplate to first question\n",
    "prompt = ChatPromptTemplate (messages=[\n",
    "    SystemMessagePromptTemplate.from_template(\"\"\"### Instructions:\n",
    "Your task is convert a question into a SQL query, given a MYSQL database schema.\n",
    "Adhere to these rules:\n",
    "- **Deliberately go through the question and database schema word by word** to appropriately answer the question.\n",
    "- **Use Table Aliases** to prevent ambiguity. For example, `SELECT table1.col1, table2.col1 FROM table1 JOIN table2 ON table1.id = table2.id`.\n",
    "- When creating a ratio, always cast the numerator as float\n",
    "- Input can contain example query given the question. In the format `Question: Give me col1 of table1;\n",
    "Query: SELECT table1.col1 FROM table1`.\n",
    "\n",
    "### Context:\n",
    "This query will run on a database whose schema is represented in this string:\n",
    "CREATE TABLE fact_retention_model \\{\n",
    "  fathercodename VARCHAR(50), -- Name of the main fund, 主基金名称\n",
    "  raisetype VARCHAR(50), -- Type of issurance or raise, 发行类别\n",
    "  product_type_bi VARCHAR(50), -- Type of product , 产品类型\n",
    "  agencyname_adj VARCHAR(50), -- Name of agency, 销售渠道\n",
    "  custtype VARCHAR(50), -- Type of customer, 客户类型\n",
    "  tougu_flag TINYINT(1), -- If has tougu, 是否投顾\n",
    "  business_module VARCHAR(50), -- Business module, 业务模块\n",
    "  cdate DATETIME, -- Date of confirmation, 确认日\n",
    "  invest_manager VARCHAR(50), -- Name of fund invest manager, 基金经理\n",
    "  parentareaname VARCHAR(50), -- Name of parent area, 大区\n",
    "  salescenter VARCHAR(50), -- Name of sales center 营销中心\n",
    "  retail_brokername VARCHAR(50), -- Name of retail broker, 客户经理\n",
    "  provname VARCHAR(50), -- Name of province, 省\n",
    "  CITYNAME VARCHAR(50), -- Name of city, 市\n",
    "  relaname VARCHAR(50), -- Name of real client, 事实客户\n",
    "  age INT, -- Age, 年龄\n",
    "  port_code VARCHAR(10) PRIMARY KEY, -- Code of fund, 基金代码\n",
    "  fathercode VARCHAR(10), -- Code of main fund, 主基金代码\n",
    "  fundname VARCHAR(10), -- Name of fund 基金名称\n",
    "  shares FLOAT, -- Latest shares, 最新份额\n",
    "  asset FLOAT, -- Latest size of fund, 最新规模\n",
    "  asset_fof FLOAT -- Latest size of fund of fund(fof), 最新规模FOF双算\n",
    "\\}\n",
    "\n",
    "The example value of each field can be as listed:\n",
    "fathercodename['中欧盛世', '新蓝筹', '时代先锋', '新常态', '潜力价值', '阿尔法', '时代先锋', '创新成长'],\n",
    "raisetype['公募基金', '一对一专户', '投顾'],\n",
    "product_type_bi['混合偏债', '债券类', '权益类', '货币类'],\n",
    "agencyname_adj['南京证券', '光大证券', '招商银行', '中信证券', '工商银行', '浦发银行'],\n",
    "custtype['机构', '个人'],\n",
    "tougu_flag['0', '1'],\n",
    "business_module['机构一部', '银行', '券商'],\n",
    "cdate['2022-12-30', '2022-06-30'],\n",
    "invest_manager['袁维德', '蓝小康', '洪慧梅', '刘金辉', '许文星'],\n",
    "parentareaname['南方区', '北方区', '华东区'],\n",
    "salescenter['江南营销中心', '华北营销中心', '西北营销中心', '东北营销中心', '深圳营销中心', '其他'],\n",
    "retail_brokername['王鹏', '卢肇昱', '冯文欣', '吕霖', '段家庆'],\n",
    "provname['湖南', '辽宁', '江苏', '河北', '陕西', '天津', '浙江'],\n",
    "CITYNAME['天津', '无锡', '郑州', '聊城', '兰州', '莆田', '锦州', '重庆', '厦门'],\n",
    "relaname['南京证券股份有限公司（非经纪业务）', '幸福人寿保险股份有限公司', '广发证券股份有限公司（非经纪业务）', '泰康资产管理有限责任公司'],\n",
    "age[43, 45, 51, 59, 101, 60, 33],\n",
    "port_code['005242', '013221', '166005', '150071', '166023'],\n",
    "fathercode['001117', '001980', '578183', '166020', '166007'],\n",
    "fundname['中欧创新成长灵活配置混合型证券投资基金A', '中欧增强回报债券（LOF）A', '中欧消费主题股票型证券投资基金A', '中欧远见两年定期开放混合A'],\n",
    "shares[10002.334, 2566.31, 1026.524, 1539.786, 2789.145, 0],\n",
    "asset[1424.9179644, 2137.3769466, 3560.064678, 1424.0258712, 2136.0388068],\n",
    "asset_fof[3562.294911, 1424.9179644, 2137.3769466, 3560.064678, 1424.0258712]\n",
    "\"\"\"),\n",
    "    MessagesPlaceholder(variable_name=\"chat_history\"),\n",
    "    HumanMessagePromptTemplate.from_template(\"{question}\")\n",
    "])\n",
    "\n",
    "memory = ConversationSummaryBufferMemory(\n",
    "    llm=llm, \n",
    "    max_token_limit=2000, \n",
    "    memory_key=\"chat_history\",\n",
    "    return_messages=True,\n",
    "    verbose=True,\n",
    "    )\n"
   ]
  },
  {
   "cell_type": "code",
   "execution_count": 5,
   "metadata": {},
   "outputs": [],
   "source": [
    "from langchain.chains import ConversationalRetrievalChain\n",
    "\n",
    "# TODO: override from_llm class method to allow custom doc_chain\n",
    "qa = ConversationalRetrievalChain.from_llm(\n",
    "    llm=llm, \n",
    "    retriever=retriever, \n",
    "    memory=memory,\n",
    "    condense_question_prompt=prompt,\n",
    "    condense_question_llm=llm\n",
    "    )\n"
   ]
  },
  {
   "cell_type": "code",
   "execution_count": 6,
   "metadata": {},
   "outputs": [
    {
     "name": "stdout",
     "output_type": "stream",
     "text": [
      " To answer the question at the end, we need to join the three queries with the same table `fact_retention_model` and group by the `agencyname` column. Then, we can use the `SUM` function to calculate the total asset values for each agency on the given date range. Finally, we can filter out the agencies that do not have any assets on the given date range using the `WHERE` clause.\n",
      "\n",
      "SELECT agencyname, SUM(asset) FROM fact_retention_model WHERE product_type_bi='权益类' AND cdate=(DATE_FORMAT(CURRENT_DATE(), '%Y-%m-01')-INTERVAL 1 DAY) GROUP BY agencyname\n",
      "\n",
      "This query will return the total asset values for each agency on the given date range."
     ]
    },
    {
     "data": {
      "application/vnd.jupyter.widget-view+json": {
       "model_id": "c5393da7b1fc44c5b25dec1ca3a000b1",
       "version_major": 2,
       "version_minor": 0
      },
      "text/plain": [
       "Downloading (…)olve/main/vocab.json:   0%|          | 0.00/1.04M [00:00<?, ?B/s]"
      ]
     },
     "metadata": {},
     "output_type": "display_data"
    },
    {
     "data": {
      "application/vnd.jupyter.widget-view+json": {
       "model_id": "efe941cfe2e54c72bcba24bc2fc8e0c2",
       "version_major": 2,
       "version_minor": 0
      },
      "text/plain": [
       "Downloading (…)olve/main/merges.txt:   0%|          | 0.00/456k [00:00<?, ?B/s]"
      ]
     },
     "metadata": {},
     "output_type": "display_data"
    },
    {
     "data": {
      "application/vnd.jupyter.widget-view+json": {
       "model_id": "11c7a916ae184744a05c78f05ee72aa6",
       "version_major": 2,
       "version_minor": 0
      },
      "text/plain": [
       "Downloading (…)/main/tokenizer.json:   0%|          | 0.00/1.36M [00:00<?, ?B/s]"
      ]
     },
     "metadata": {},
     "output_type": "display_data"
    },
    {
     "data": {
      "application/vnd.jupyter.widget-view+json": {
       "model_id": "aa2039066f6b4ab4af3d3e958333b02b",
       "version_major": 2,
       "version_minor": 0
      },
      "text/plain": [
       "Downloading (…)lve/main/config.json:   0%|          | 0.00/665 [00:00<?, ?B/s]"
      ]
     },
     "metadata": {},
     "output_type": "display_data"
    },
    {
     "data": {
      "text/plain": [
       "{'question': '如何计算保有规模',\n",
       " 'chat_history': [HumanMessage(content='如何计算保有规模', additional_kwargs={}, example=False),\n",
       "  AIMessage(content=\" To answer the question at the end, we need to join the three queries with the same table `fact_retention_model` and group by the `agencyname` column. Then, we can use the `SUM` function to calculate the total asset values for each agency on the given date range. Finally, we can filter out the agencies that do not have any assets on the given date range using the `WHERE` clause.\\n\\nSELECT agencyname, SUM(asset) FROM fact_retention_model WHERE product_type_bi='权益类' AND cdate=(DATE_FORMAT(CURRENT_DATE(), '%Y-%m-01')-INTERVAL 1 DAY) GROUP BY agencyname\\n\\nThis query will return the total asset values for each agency on the given date range.\", additional_kwargs={}, example=False)],\n",
       " 'answer': \" To answer the question at the end, we need to join the three queries with the same table `fact_retention_model` and group by the `agencyname` column. Then, we can use the `SUM` function to calculate the total asset values for each agency on the given date range. Finally, we can filter out the agencies that do not have any assets on the given date range using the `WHERE` clause.\\n\\nSELECT agencyname, SUM(asset) FROM fact_retention_model WHERE product_type_bi='权益类' AND cdate=(DATE_FORMAT(CURRENT_DATE(), '%Y-%m-01')-INTERVAL 1 DAY) GROUP BY agencyname\\n\\nThis query will return the total asset values for each agency on the given date range.\"}"
      ]
     },
     "execution_count": 6,
     "metadata": {},
     "output_type": "execute_result"
    }
   ],
   "source": [
    "question = \"如何计算保有规模\"\n",
    "result = qa({\"question\": question})\n",
    "result"
   ]
  },
  {
   "cell_type": "code",
   "execution_count": null,
   "metadata": {},
   "outputs": [],
   "source": []
  },
  {
   "cell_type": "code",
   "execution_count": 7,
   "metadata": {},
   "outputs": [
    {
     "ename": "ValueError",
     "evalue": "Missing some input keys: {'\\n  fathercodename VARCHAR(50), -- Name of the main fund, 主基金名称\\n  raisetype VARCHAR(50), -- Type of issurance or raise, 发行类别\\n  product_type_bi VARCHAR(50), -- Type of product , 产品类型\\n  agencyname_adj VARCHAR(50), -- Name of agency, 销售渠道\\n  custtype VARCHAR(50), -- Type of customer, 客户类型\\n  tougu_flag TINYINT(1), -- If has tougu, 是否投顾\\n  business_module VARCHAR(50), -- Business module, 业务模块\\n  cdate DATETIME, -- Date of confirmation, 确认日\\n  invest_manager VARCHAR(50), -- Name of fund invest manager, 基金经理\\n  parentareaname VARCHAR(50), -- Name of parent area, 大区\\n  salescenter VARCHAR(50), -- Name of sales center 营销中心\\n  retail_brokername VARCHAR(50), -- Name of retail broker, 客户经理\\n  provname VARCHAR(50), -- Name of province, 省\\n  CITYNAME VARCHAR(50), -- Name of city, 市\\n  relaname VARCHAR(50), -- Name of real client, 事实客户\\n  age INT, -- Age, 年龄\\n  port_code VARCHAR(10) PRIMARY KEY, -- Code of fund, 基金代码\\n  fathercode VARCHAR(10), -- Code of main fund, 主基金代码\\n  fundname VARCHAR(10), -- Name of fund 基金名称\\n  shares FLOAT, -- Latest shares, 最新份额\\n  asset FLOAT, -- Latest size of fund, 最新规模\\n  asset_fof FLOAT -- Latest size of fund of fund(fof), 最新规模FOF双算\\n\\\\'}",
     "output_type": "error",
     "traceback": [
      "\u001b[0;31m---------------------------------------------------------------------------\u001b[0m",
      "\u001b[0;31mValueError\u001b[0m                                Traceback (most recent call last)",
      "\u001b[1;32m/Users/calvin/Desktop/zofund/privateGPT-sqlcoder/ConversationalRetrievalChain.ipynb Cell 6\u001b[0m line \u001b[0;36m2\n\u001b[1;32m      <a href='vscode-notebook-cell:/Users/calvin/Desktop/zofund/privateGPT-sqlcoder/ConversationalRetrievalChain.ipynb#W5sZmlsZQ%3D%3D?line=0'>1</a>\u001b[0m question2 \u001b[39m=\u001b[39m \u001b[39m\"\u001b[39m\u001b[39m如何获取所有表的结构\u001b[39m\u001b[39m\"\u001b[39m\n\u001b[0;32m----> <a href='vscode-notebook-cell:/Users/calvin/Desktop/zofund/privateGPT-sqlcoder/ConversationalRetrievalChain.ipynb#W5sZmlsZQ%3D%3D?line=1'>2</a>\u001b[0m result2 \u001b[39m=\u001b[39m qa({\u001b[39m\"\u001b[39;49m\u001b[39mquestion\u001b[39;49m\u001b[39m\"\u001b[39;49m: question2})\n\u001b[1;32m      <a href='vscode-notebook-cell:/Users/calvin/Desktop/zofund/privateGPT-sqlcoder/ConversationalRetrievalChain.ipynb#W5sZmlsZQ%3D%3D?line=2'>3</a>\u001b[0m result2\n",
      "File \u001b[0;32m/opt/miniconda3/envs/gnn/lib/python3.11/site-packages/langchain/chains/base.py:292\u001b[0m, in \u001b[0;36mChain.__call__\u001b[0;34m(self, inputs, return_only_outputs, callbacks, tags, metadata, run_name, include_run_info)\u001b[0m\n\u001b[1;32m    290\u001b[0m \u001b[39mexcept\u001b[39;00m (\u001b[39mKeyboardInterrupt\u001b[39;00m, \u001b[39mException\u001b[39;00m) \u001b[39mas\u001b[39;00m e:\n\u001b[1;32m    291\u001b[0m     run_manager\u001b[39m.\u001b[39mon_chain_error(e)\n\u001b[0;32m--> 292\u001b[0m     \u001b[39mraise\u001b[39;00m e\n\u001b[1;32m    293\u001b[0m run_manager\u001b[39m.\u001b[39mon_chain_end(outputs)\n\u001b[1;32m    294\u001b[0m final_outputs: Dict[\u001b[39mstr\u001b[39m, Any] \u001b[39m=\u001b[39m \u001b[39mself\u001b[39m\u001b[39m.\u001b[39mprep_outputs(\n\u001b[1;32m    295\u001b[0m     inputs, outputs, return_only_outputs\n\u001b[1;32m    296\u001b[0m )\n",
      "File \u001b[0;32m/opt/miniconda3/envs/gnn/lib/python3.11/site-packages/langchain/chains/base.py:286\u001b[0m, in \u001b[0;36mChain.__call__\u001b[0;34m(self, inputs, return_only_outputs, callbacks, tags, metadata, run_name, include_run_info)\u001b[0m\n\u001b[1;32m    279\u001b[0m run_manager \u001b[39m=\u001b[39m callback_manager\u001b[39m.\u001b[39mon_chain_start(\n\u001b[1;32m    280\u001b[0m     dumpd(\u001b[39mself\u001b[39m),\n\u001b[1;32m    281\u001b[0m     inputs,\n\u001b[1;32m    282\u001b[0m     name\u001b[39m=\u001b[39mrun_name,\n\u001b[1;32m    283\u001b[0m )\n\u001b[1;32m    284\u001b[0m \u001b[39mtry\u001b[39;00m:\n\u001b[1;32m    285\u001b[0m     outputs \u001b[39m=\u001b[39m (\n\u001b[0;32m--> 286\u001b[0m         \u001b[39mself\u001b[39;49m\u001b[39m.\u001b[39;49m_call(inputs, run_manager\u001b[39m=\u001b[39;49mrun_manager)\n\u001b[1;32m    287\u001b[0m         \u001b[39mif\u001b[39;00m new_arg_supported\n\u001b[1;32m    288\u001b[0m         \u001b[39melse\u001b[39;00m \u001b[39mself\u001b[39m\u001b[39m.\u001b[39m_call(inputs)\n\u001b[1;32m    289\u001b[0m     )\n\u001b[1;32m    290\u001b[0m \u001b[39mexcept\u001b[39;00m (\u001b[39mKeyboardInterrupt\u001b[39;00m, \u001b[39mException\u001b[39;00m) \u001b[39mas\u001b[39;00m e:\n\u001b[1;32m    291\u001b[0m     run_manager\u001b[39m.\u001b[39mon_chain_error(e)\n",
      "File \u001b[0;32m/opt/miniconda3/envs/gnn/lib/python3.11/site-packages/langchain/chains/conversational_retrieval/base.py:125\u001b[0m, in \u001b[0;36mBaseConversationalRetrievalChain._call\u001b[0;34m(self, inputs, run_manager)\u001b[0m\n\u001b[1;32m    123\u001b[0m \u001b[39mif\u001b[39;00m chat_history_str:\n\u001b[1;32m    124\u001b[0m     callbacks \u001b[39m=\u001b[39m _run_manager\u001b[39m.\u001b[39mget_child()\n\u001b[0;32m--> 125\u001b[0m     new_question \u001b[39m=\u001b[39m \u001b[39mself\u001b[39;49m\u001b[39m.\u001b[39;49mquestion_generator\u001b[39m.\u001b[39;49mrun(\n\u001b[1;32m    126\u001b[0m         question\u001b[39m=\u001b[39;49mquestion, chat_history\u001b[39m=\u001b[39;49mchat_history_str, callbacks\u001b[39m=\u001b[39;49mcallbacks\n\u001b[1;32m    127\u001b[0m     )\n\u001b[1;32m    128\u001b[0m \u001b[39melse\u001b[39;00m:\n\u001b[1;32m    129\u001b[0m     new_question \u001b[39m=\u001b[39m question\n",
      "File \u001b[0;32m/opt/miniconda3/envs/gnn/lib/python3.11/site-packages/langchain/chains/base.py:492\u001b[0m, in \u001b[0;36mChain.run\u001b[0;34m(self, callbacks, tags, metadata, *args, **kwargs)\u001b[0m\n\u001b[1;32m    487\u001b[0m     \u001b[39mreturn\u001b[39;00m \u001b[39mself\u001b[39m(args[\u001b[39m0\u001b[39m], callbacks\u001b[39m=\u001b[39mcallbacks, tags\u001b[39m=\u001b[39mtags, metadata\u001b[39m=\u001b[39mmetadata)[\n\u001b[1;32m    488\u001b[0m         _output_key\n\u001b[1;32m    489\u001b[0m     ]\n\u001b[1;32m    491\u001b[0m \u001b[39mif\u001b[39;00m kwargs \u001b[39mand\u001b[39;00m \u001b[39mnot\u001b[39;00m args:\n\u001b[0;32m--> 492\u001b[0m     \u001b[39mreturn\u001b[39;00m \u001b[39mself\u001b[39;49m(kwargs, callbacks\u001b[39m=\u001b[39;49mcallbacks, tags\u001b[39m=\u001b[39;49mtags, metadata\u001b[39m=\u001b[39;49mmetadata)[\n\u001b[1;32m    493\u001b[0m         _output_key\n\u001b[1;32m    494\u001b[0m     ]\n\u001b[1;32m    496\u001b[0m \u001b[39mif\u001b[39;00m \u001b[39mnot\u001b[39;00m kwargs \u001b[39mand\u001b[39;00m \u001b[39mnot\u001b[39;00m args:\n\u001b[1;32m    497\u001b[0m     \u001b[39mraise\u001b[39;00m \u001b[39mValueError\u001b[39;00m(\n\u001b[1;32m    498\u001b[0m         \u001b[39m\"\u001b[39m\u001b[39m`run` supported with either positional arguments or keyword arguments,\u001b[39m\u001b[39m\"\u001b[39m\n\u001b[1;32m    499\u001b[0m         \u001b[39m\"\u001b[39m\u001b[39m but none were provided.\u001b[39m\u001b[39m\"\u001b[39m\n\u001b[1;32m    500\u001b[0m     )\n",
      "File \u001b[0;32m/opt/miniconda3/envs/gnn/lib/python3.11/site-packages/langchain/chains/base.py:268\u001b[0m, in \u001b[0;36mChain.__call__\u001b[0;34m(self, inputs, return_only_outputs, callbacks, tags, metadata, run_name, include_run_info)\u001b[0m\n\u001b[1;32m    232\u001b[0m \u001b[39mdef\u001b[39;00m \u001b[39m__call__\u001b[39m(\n\u001b[1;32m    233\u001b[0m     \u001b[39mself\u001b[39m,\n\u001b[1;32m    234\u001b[0m     inputs: Union[Dict[\u001b[39mstr\u001b[39m, Any], Any],\n\u001b[0;32m   (...)\u001b[0m\n\u001b[1;32m    241\u001b[0m     include_run_info: \u001b[39mbool\u001b[39m \u001b[39m=\u001b[39m \u001b[39mFalse\u001b[39;00m,\n\u001b[1;32m    242\u001b[0m ) \u001b[39m-\u001b[39m\u001b[39m>\u001b[39m Dict[\u001b[39mstr\u001b[39m, Any]:\n\u001b[1;32m    243\u001b[0m \u001b[39m    \u001b[39m\u001b[39m\"\"\"Execute the chain.\u001b[39;00m\n\u001b[1;32m    244\u001b[0m \n\u001b[1;32m    245\u001b[0m \u001b[39m    Args:\u001b[39;00m\n\u001b[0;32m   (...)\u001b[0m\n\u001b[1;32m    266\u001b[0m \u001b[39m            `Chain.output_keys`.\u001b[39;00m\n\u001b[1;32m    267\u001b[0m \u001b[39m    \"\"\"\u001b[39;00m\n\u001b[0;32m--> 268\u001b[0m     inputs \u001b[39m=\u001b[39m \u001b[39mself\u001b[39;49m\u001b[39m.\u001b[39;49mprep_inputs(inputs)\n\u001b[1;32m    269\u001b[0m     callback_manager \u001b[39m=\u001b[39m CallbackManager\u001b[39m.\u001b[39mconfigure(\n\u001b[1;32m    270\u001b[0m         callbacks,\n\u001b[1;32m    271\u001b[0m         \u001b[39mself\u001b[39m\u001b[39m.\u001b[39mcallbacks,\n\u001b[0;32m   (...)\u001b[0m\n\u001b[1;32m    276\u001b[0m         \u001b[39mself\u001b[39m\u001b[39m.\u001b[39mmetadata,\n\u001b[1;32m    277\u001b[0m     )\n\u001b[1;32m    278\u001b[0m     new_arg_supported \u001b[39m=\u001b[39m inspect\u001b[39m.\u001b[39msignature(\u001b[39mself\u001b[39m\u001b[39m.\u001b[39m_call)\u001b[39m.\u001b[39mparameters\u001b[39m.\u001b[39mget(\u001b[39m\"\u001b[39m\u001b[39mrun_manager\u001b[39m\u001b[39m\"\u001b[39m)\n",
      "File \u001b[0;32m/opt/miniconda3/envs/gnn/lib/python3.11/site-packages/langchain/chains/base.py:425\u001b[0m, in \u001b[0;36mChain.prep_inputs\u001b[0;34m(self, inputs)\u001b[0m\n\u001b[1;32m    423\u001b[0m     external_context \u001b[39m=\u001b[39m \u001b[39mself\u001b[39m\u001b[39m.\u001b[39mmemory\u001b[39m.\u001b[39mload_memory_variables(inputs)\n\u001b[1;32m    424\u001b[0m     inputs \u001b[39m=\u001b[39m \u001b[39mdict\u001b[39m(inputs, \u001b[39m*\u001b[39m\u001b[39m*\u001b[39mexternal_context)\n\u001b[0;32m--> 425\u001b[0m \u001b[39mself\u001b[39;49m\u001b[39m.\u001b[39;49m_validate_inputs(inputs)\n\u001b[1;32m    426\u001b[0m \u001b[39mreturn\u001b[39;00m inputs\n",
      "File \u001b[0;32m/opt/miniconda3/envs/gnn/lib/python3.11/site-packages/langchain/chains/base.py:179\u001b[0m, in \u001b[0;36mChain._validate_inputs\u001b[0;34m(self, inputs)\u001b[0m\n\u001b[1;32m    177\u001b[0m missing_keys \u001b[39m=\u001b[39m \u001b[39mset\u001b[39m(\u001b[39mself\u001b[39m\u001b[39m.\u001b[39minput_keys)\u001b[39m.\u001b[39mdifference(inputs)\n\u001b[1;32m    178\u001b[0m \u001b[39mif\u001b[39;00m missing_keys:\n\u001b[0;32m--> 179\u001b[0m     \u001b[39mraise\u001b[39;00m \u001b[39mValueError\u001b[39;00m(\u001b[39mf\u001b[39m\u001b[39m\"\u001b[39m\u001b[39mMissing some input keys: \u001b[39m\u001b[39m{\u001b[39;00mmissing_keys\u001b[39m}\u001b[39;00m\u001b[39m\"\u001b[39m)\n",
      "\u001b[0;31mValueError\u001b[0m: Missing some input keys: {'\\n  fathercodename VARCHAR(50), -- Name of the main fund, 主基金名称\\n  raisetype VARCHAR(50), -- Type of issurance or raise, 发行类别\\n  product_type_bi VARCHAR(50), -- Type of product , 产品类型\\n  agencyname_adj VARCHAR(50), -- Name of agency, 销售渠道\\n  custtype VARCHAR(50), -- Type of customer, 客户类型\\n  tougu_flag TINYINT(1), -- If has tougu, 是否投顾\\n  business_module VARCHAR(50), -- Business module, 业务模块\\n  cdate DATETIME, -- Date of confirmation, 确认日\\n  invest_manager VARCHAR(50), -- Name of fund invest manager, 基金经理\\n  parentareaname VARCHAR(50), -- Name of parent area, 大区\\n  salescenter VARCHAR(50), -- Name of sales center 营销中心\\n  retail_brokername VARCHAR(50), -- Name of retail broker, 客户经理\\n  provname VARCHAR(50), -- Name of province, 省\\n  CITYNAME VARCHAR(50), -- Name of city, 市\\n  relaname VARCHAR(50), -- Name of real client, 事实客户\\n  age INT, -- Age, 年龄\\n  port_code VARCHAR(10) PRIMARY KEY, -- Code of fund, 基金代码\\n  fathercode VARCHAR(10), -- Code of main fund, 主基金代码\\n  fundname VARCHAR(10), -- Name of fund 基金名称\\n  shares FLOAT, -- Latest shares, 最新份额\\n  asset FLOAT, -- Latest size of fund, 最新规模\\n  asset_fof FLOAT -- Latest size of fund of fund(fof), 最新规模FOF双算\\n\\\\'}"
     ]
    }
   ],
   "source": [
    "question2 = \"如何获取所有表的结构\"\n",
    "result2 = qa({\"question\": question2})\n",
    "result2\n"
   ]
  },
  {
   "cell_type": "code",
   "execution_count": null,
   "metadata": {},
   "outputs": [],
   "source": [
    "result2.get(\"chat_history\")\n"
   ]
  }
 ],
 "metadata": {
  "kernelspec": {
   "display_name": "Python 3 (ipykernel)",
   "language": "python",
   "name": "python3"
  },
  "language_info": {
   "codemirror_mode": {
    "name": "ipython",
    "version": 3
   },
   "file_extension": ".py",
   "mimetype": "text/x-python",
   "name": "python",
   "nbconvert_exporter": "python",
   "pygments_lexer": "ipython3",
   "version": "3.11.4"
  }
 },
 "nbformat": 4,
 "nbformat_minor": 4
}
