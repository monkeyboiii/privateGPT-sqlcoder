{
 "cells": [
  {
   "cell_type": "code",
   "execution_count": 3,
   "metadata": {},
   "outputs": [],
   "source": [
    "from langchain.embeddings import HuggingFaceEmbeddings\n",
    "from langchain.vectorstores import Chroma\n",
    "from chromadb.config import Settings\n",
    "import chromadb\n",
    "\n",
    "CHROMA_SETTINGS = Settings(\n",
    "    persist_directory=\"db\",\n",
    "    anonymized_telemetry=False\n",
    ")\n",
    "\n",
    "embeddings = HuggingFaceEmbeddings(model_name=\"all-MiniLM-L6-v2\")\n",
    "chroma_client = chromadb.PersistentClient(settings=CHROMA_SETTINGS , path=\"db\")\n",
    "db = Chroma(persist_directory=\"db\", embedding_function=embeddings, client_settings=CHROMA_SETTINGS, client=chroma_client)\n",
    "\n",
    "retriever = db.as_retriever(search_kwargs={\"k\": 4})\n"
   ]
  },
  {
   "cell_type": "code",
   "execution_count": 6,
   "metadata": {},
   "outputs": [
    {
     "name": "stdout",
     "output_type": "stream",
     "text": [
      "Found model file at  ../models/ggml-model-gpt4all-falcon-q4_0.bin\n",
      "falcon_model_load: loading model from '../models/ggml-model-gpt4all-falcon-q4_0.bin' - please wait ...\n",
      "falcon_model_load: n_vocab   = 65024\n",
      "falcon_model_load: n_embd    = 4544\n",
      "falcon_model_load: n_head    = 71\n",
      "falcon_model_load: n_head_kv = 1\n",
      "falcon_model_load: n_layer   = 32\n",
      "falcon_model_load: ftype     = 2\n",
      "falcon_model_load: qntvr     = 0\n",
      "falcon_model_load: ggml ctx size = 3872.64 MB\n",
      "falcon_model_load: memory_size =    32.00 MB, n_mem = 65536\n",
      "falcon_model_load: ........................ done\n",
      "falcon_model_load: model size =  3872.59 MB / num tensors = 196\n"
     ]
    }
   ],
   "source": [
    "from langchain.llms import GPT4All\n",
    "from langchain.memory import ConversationBufferMemory\n",
    "from langchain.callbacks.streaming_stdout import StreamingStdOutCallbackHandler\n",
    "from langchain.chains import ConversationalRetrievalChain\n",
    "\n",
    "llm = GPT4All(model=\"../models/ggml-model-gpt4all-falcon-q4_0.bin\", max_tokens=1000, backend='gptj',\n",
    "                          n_batch=8, callbacks=[StreamingStdOutCallbackHandler()], verbose=False)\n",
    "\n",
    "memory = ConversationBufferMemory(memory_key=\"chat_history\", return_messages=True)\n",
    "\n",
    "qa = ConversationalRetrievalChain.from_llm(\n",
    "    llm=llm, \n",
    "    retriever=retriever, \n",
    "    memory=memory,\n",
    "    # condense_question_prompt=None,\n",
    "    # condense_question_llm=None\n",
    "    )\n"
   ]
  },
  {
   "cell_type": "code",
   "execution_count": 7,
   "metadata": {},
   "outputs": [
    {
     "name": "stderr",
     "output_type": "stream",
     "text": [
      "0.00s - Debugger warning: It seems that frozen modules are being used, which may\n",
      "0.00s - make the debugger miss breakpoints. Please pass -Xfrozen_modules=off\n",
      "0.00s - to python to disable frozen modules.\n",
      "0.00s - Note: Debugging will proceed. Set PYDEVD_DISABLE_FILE_VALIDATION=1 to disable this validation.\n"
     ]
    },
    {
     "name": "stdout",
     "output_type": "stream",
     "text": [
      "\n",
      "\n",
      "Answer:\n",
      "\n",
      "SELECT DISTINCT `agencyname`, SUM(`asset`) FROM `fact_retention_model` WHERE `product_type_bi` = '权益类' AND `cdate` = (DATE_FORMAT(CURRENT_DATE(), '%Y-%m-01') - INTERVAL 1 DAY)\n",
      "\n",
      "Explanation:\n",
      "\n",
      "The above SQL query will return the names of all agencies that have invested in a 濝募基金 (merchant loan base model) with a product type of 濝益类 (merchant loan base model) and a current date of 2023-01-01.\n",
      "\n",
      "The DISTINCT keyword is used to remove any duplicated values from the result set.\n",
      "\n",
      "The SUM function is used to calculate the total asset value for each agency.\n",
      "\n",
      "The WHERE clause filters the results based on the product type and the current date.\n",
      "\n",
      "The DATE_FORMAT function is used to format the current date as 'YYYY-MM-DD'.\n",
      "\n",
      "The INTERVAL function is used to subtract "
     ]
    }
   ],
   "source": [
    "question = \"如何计算保有规模\"\n",
    "result = qa({\"question\": question})"
   ]
  },
  {
   "cell_type": "code",
   "execution_count": null,
   "metadata": {},
   "outputs": [
    {
     "data": {
      "text/plain": [
       "{'question': '如何计算保有规模',\n",
       " 'chat_history': [HumanMessage(content='如何计算保有规模', additional_kwargs={}, example=False),\n",
       "  AIMessage(content=\"\\n\\nAnswer:\\n\\nSELECT DISTINCT `agencyname`, SUM(`asset`) FROM `fact_retention_model` WHERE `product_type_bi` = '权益类' AND `cdate` = (DATE_FORMAT(CURRENT_DATE(), '%Y-%m-01') - INTERVAL 1 DAY)\\n\\nExplanation:\\n\\nThe above SQL query will return the names of all agencies that have invested in a 濝募基金 (merchant loan base model) with a product type of 濝益类 (merchant loan base model) and a current date of 2023-01-01.\\n\\nThe DISTINCT keyword is used to remove any duplicated values from the result set.\\n\\nThe SUM function is used to calculate the total asset value for each agency.\\n\\nThe WHERE clause filters the results based on the product type and the current date.\\n\\nThe DATE_FORMAT function is used to format the current date as 'YYYY-MM-DD'.\\n\\nThe INTERVAL function is used to subtract \", additional_kwargs={}, example=False)],\n",
       " 'answer': \"\\n\\nAnswer:\\n\\nSELECT DISTINCT `agencyname`, SUM(`asset`) FROM `fact_retention_model` WHERE `product_type_bi` = '权益类' AND `cdate` = (DATE_FORMAT(CURRENT_DATE(), '%Y-%m-01') - INTERVAL 1 DAY)\\n\\nExplanation:\\n\\nThe above SQL query will return the names of all agencies that have invested in a 濝募基金 (merchant loan base model) with a product type of 濝益类 (merchant loan base model) and a current date of 2023-01-01.\\n\\nThe DISTINCT keyword is used to remove any duplicated values from the result set.\\n\\nThe SUM function is used to calculate the total asset value for each agency.\\n\\nThe WHERE clause filters the results based on the product type and the current date.\\n\\nThe DATE_FORMAT function is used to format the current date as 'YYYY-MM-DD'.\\n\\nThe INTERVAL function is used to subtract \"}"
      ]
     },
     "metadata": {},
     "output_type": "display_data"
    }
   ],
   "source": [
    "result"
   ]
  },
  {
   "cell_type": "code",
   "execution_count": 9,
   "metadata": {},
   "outputs": [
    {
     "name": "stdout",
     "output_type": "stream",
     "text": [
      "\n",
      "\n",
      "What is the SQL query to retrieve the names of all agencies that have invested in a 濝募基金 (merchant loan base model) with a product type of 濝益类 (merchant loan base model) and a current date of 2023-01-01? \n",
      "\n",
      "SELECT agencyname FROM fact_retention_model WHERE product_type_bi='濝益类' AND cdate=(DATE_FORMAT(CURRENT_DATE(), '%Y-%m-01')-INTERVAL 1)"
     ]
    }
   ],
   "source": [
    "question2 = \"如何获取所有表的结构\"\n",
    "result2 = qa({\"question\": question2})"
   ]
  },
  {
   "cell_type": "code",
   "execution_count": 11,
   "metadata": {},
   "outputs": [
    {
     "data": {
      "text/plain": [
       "[HumanMessage(content='如何计算保有规模', additional_kwargs={}, example=False),\n",
       " AIMessage(content=\"\\n\\nAnswer:\\n\\nSELECT DISTINCT `agencyname`, SUM(`asset`) FROM `fact_retention_model` WHERE `product_type_bi` = '权益类' AND `cdate` = (DATE_FORMAT(CURRENT_DATE(), '%Y-%m-01') - INTERVAL 1 DAY)\\n\\nExplanation:\\n\\nThe above SQL query will return the names of all agencies that have invested in a 濝募基金 (merchant loan base model) with a product type of 濝益类 (merchant loan base model) and a current date of 2023-01-01.\\n\\nThe DISTINCT keyword is used to remove any duplicated values from the result set.\\n\\nThe SUM function is used to calculate the total asset value for each agency.\\n\\nThe WHERE clause filters the results based on the product type and the current date.\\n\\nThe DATE_FORMAT function is used to format the current date as 'YYYY-MM-DD'.\\n\\nThe INTERVAL function is used to subtract \", additional_kwargs={}, example=False),\n",
       " HumanMessage(content='如何获取所有表的结构', additional_kwargs={}, example=False),\n",
       " AIMessage(content=\" \\n\\nSELECT agencyname FROM fact_retention_model WHERE product_type_bi='濝益类' AND cdate=(DATE_FORMAT(CURRENT_DATE(), '%Y-%m-01')-INTERVAL 1)\", additional_kwargs={}, example=False)]"
      ]
     },
     "execution_count": 11,
     "metadata": {},
     "output_type": "execute_result"
    }
   ],
   "source": [
    "result2.get(\"chat_history\")"
   ]
  },
  {
   "cell_type": "code",
   "execution_count": 20,
   "metadata": {},
   "outputs": [
    {
     "data": {
      "text/plain": [
       "{'question': '如何获取所有表的结构',\n",
       " 'chat_history': [HumanMessage(content='如何计算保有规模', additional_kwargs={}, example=False),\n",
       "  AIMessage(content=\"\\n\\nAnswer:\\n\\nSELECT DISTINCT `agencyname`, SUM(`asset`) FROM `fact_retention_model` WHERE `product_type_bi` = '权益类' AND `cdate` = (DATE_FORMAT(CURRENT_DATE(), '%Y-%m-01') - INTERVAL 1 DAY)\\n\\nExplanation:\\n\\nThe above SQL query will return the names of all agencies that have invested in a 濝募基金 (merchant loan base model) with a product type of 濝益类 (merchant loan base model) and a current date of 2023-01-01.\\n\\nThe DISTINCT keyword is used to remove any duplicated values from the result set.\\n\\nThe SUM function is used to calculate the total asset value for each agency.\\n\\nThe WHERE clause filters the results based on the product type and the current date.\\n\\nThe DATE_FORMAT function is used to format the current date as 'YYYY-MM-DD'.\\n\\nThe INTERVAL function is used to subtract \", additional_kwargs={}, example=False),\n",
       "  HumanMessage(content='如何获取所有表的结构', additional_kwargs={}, example=False),\n",
       "  AIMessage(content=\" \\n\\nSELECT agencyname FROM fact_retention_model WHERE product_type_bi='濝益类' AND cdate=(DATE_FORMAT(CURRENT_DATE(), '%Y-%m-01')-INTERVAL 1)\", additional_kwargs={}, example=False)],\n",
       " 'answer': \" \\n\\nSELECT agencyname FROM fact_retention_model WHERE product_type_bi='濝益类' AND cdate=(DATE_FORMAT(CURRENT_DATE(), '%Y-%m-01')-INTERVAL 1)\"}"
      ]
     },
     "execution_count": 20,
     "metadata": {},
     "output_type": "execute_result"
    }
   ],
   "source": [
    "result2"
   ]
  }
 ],
 "metadata": {
  "kernelspec": {
   "display_name": "gnn",
   "language": "python",
   "name": "python3"
  },
  "language_info": {
   "codemirror_mode": {
    "name": "ipython",
    "version": 3
   },
   "file_extension": ".py",
   "mimetype": "text/x-python",
   "name": "python",
   "nbconvert_exporter": "python",
   "pygments_lexer": "ipython3",
   "version": "3.11.4"
  },
  "orig_nbformat": 4
 },
 "nbformat": 4,
 "nbformat_minor": 2
}
