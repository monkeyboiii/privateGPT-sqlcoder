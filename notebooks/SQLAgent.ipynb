{
 "cells": [
  {
   "cell_type": "markdown",
   "metadata": {},
   "source": [
    "---\n",
    "## SQL Agents\n",
    "Fourth approach, continued from SQLBasedChains.ipynb.\n",
    "\n",
    "Agent created from *create_sql_agent*, contains *SQLDatabaseToolkit*.\n",
    "* It can answer questions based on the databases' schema as well as on the databases' content (like describing a specific table)\n",
    "* It can recover from errors by running a generated query, catching the traceback and regenerating it correctly\n"
   ]
  },
  {
   "cell_type": "code",
   "execution_count": null,
   "metadata": {},
   "outputs": [],
   "source": [
    "from langchain.agents.agent_toolkits import create_sql_agent, SQLDatabaseToolkit\n",
    "from langchain.agents.agent_types import AgentType\n",
    "from langchain.memory import ConversationBufferMemory\n",
    "from langchain.sql_database import SQLDatabase\n",
    "from langchain.llms import GPT4All\n",
    "\n",
    "\n",
    "memory = ConversationBufferMemory(memory_key = 'history' , input_key = 'input')\n",
    "llm = GPT4All(model=\"../models/ggml-model-gpt4all-falcon-q4_0.bin\")\n",
    "db = SQLDatabase.from_uri(\"sqlite:///../db/retention-sqlite.db\")\n",
    "\n",
    "\n",
    "suffix = \"\"\"Begin!\n",
    "\n",
    "Relevant pieces of previous conversation:\n",
    "{history}\n",
    "(You do not need to use these pieces of information if not relevant)\n",
    "\n",
    "Question: {input}\n",
    "Thought: I should look at the tables in the database to see what I can query.  Then I should query the schema of the most relevant tables.\n",
    "{agent_scratchpad}\n",
    "\"\"\"\n",
    "executor = create_sql_agent(\n",
    "    llm = llm,\n",
    "    toolkit = SQLDatabaseToolkit(db=db, llm=llm),\n",
    "    agent_type = AgentType.ZERO_SHOT_REACT_DESCRIPTION,\n",
    "    input_variables = [\"input\", \"agent_scratchpad\", \"history\"],\n",
    "    suffix = suffix, # must have history as variable,\n",
    "    agent_executor_kwargs = {'memory':memory},\n",
    "    verbose=True,\n",
    ")"
   ]
  },
  {
   "cell_type": "code",
   "execution_count": null,
   "metadata": {},
   "outputs": [],
   "source": [
    "# NOTE:\n",
    "# Local GPT4All generate ill-formatted answers\n",
    "executor.run(\"What are the tables in the database?\")"
   ]
  }
 ],
 "metadata": {
  "kernelspec": {
   "display_name": "gnn",
   "language": "python",
   "name": "python3"
  },
  "language_info": {
   "codemirror_mode": {
    "name": "ipython",
    "version": 3
   },
   "file_extension": ".py",
   "mimetype": "text/x-python",
   "name": "python",
   "nbconvert_exporter": "python",
   "pygments_lexer": "ipython3",
   "version": "3.11.4"
  },
  "orig_nbformat": 4
 },
 "nbformat": 4,
 "nbformat_minor": 2
}
