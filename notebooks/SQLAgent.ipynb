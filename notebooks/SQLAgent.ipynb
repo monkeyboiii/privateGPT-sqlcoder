{
 "cells": [
  {
   "cell_type": "markdown",
   "metadata": {},
   "source": [
    "---\n",
    "## SQL Agents\n",
    "Fourth approach, from *create_sql_agent*, contains *SQLDatabaseToolkit*\n",
    "* It can answer questions based on the databases' schema as well as on the databases' content (like describing a specific table)\n",
    "* It can recover from errors by running a generated query, catching the traceback and regenerating it correctly\n"
   ]
  },
  {
   "cell_type": "code",
   "execution_count": null,
   "metadata": {},
   "outputs": [],
   "source": [
    "from langchain.utilities import SQLDatabase\n",
    "from langchain.agents import create_sql_agent\n",
    "from langchain.agents.agent_toolkits import SQLDatabaseToolkit\n",
    "# from langchain.agents import AgentExecutor\n",
    "from langchain.agents.agent_types import AgentType\n",
    "from langchain.llms import GPT4All\n",
    "from langchain.agents import AgentExecutor\n",
    "\n",
    "\n",
    "db = SQLDatabase.from_uri(\"sqlite:///../db/retention-sqlite.db\")\n",
    "llm = GPT4All(model_name=\"../../\", verbose=True)\n",
    "\n",
    "agent_executor = create_sql_agent(\n",
    "    llm=llm,\n",
    "    toolkit=SQLDatabaseToolkit(db=db, llm=llm),\n",
    "    verbose=True,\n",
    "    agent_type=AgentType.ZERO_SHOT_REACT_DESCRIPTION,\n",
    ")"
   ]
  }
 ],
 "metadata": {
  "kernelspec": {
   "display_name": "gnn",
   "language": "python",
   "name": "python3"
  },
  "language_info": {
   "name": "python",
   "version": "3.11.4"
  },
  "orig_nbformat": 4
 },
 "nbformat": 4,
 "nbformat_minor": 2
}
