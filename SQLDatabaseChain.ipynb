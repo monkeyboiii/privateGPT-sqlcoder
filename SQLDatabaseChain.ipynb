{
 "cells": [
  {
   "cell_type": "code",
   "execution_count": null,
   "metadata": {},
   "outputs": [],
   "source": [
    "from langchain.utilities import SQLDatabase\n",
    "from langchain.llms import GPT4All\n",
    "from langchain.callbacks.streaming_stdout import StreamingStdOutCallbackHandler\n",
    "\n",
    "\n",
    "db_uri = \"sqlite:///db/cargo-sqlite.db\"\n",
    "model_path = \"../privateGPT/models/ggml-model-gpt4all-falcon-q4_0.bin\" \n",
    "VERBOSE = True\n",
    "\n",
    "\n",
    "db = SQLDatabase.from_uri(\n",
    "    db_uri,\n",
    "    include_tables=['cargo', 'cargo_info', 'depart_list', 'purchase_info', 'sales', 'supply_company'],\n",
    "    sample_rows_in_table_info=3)\n",
    "\n",
    "llm = GPT4All(model=model_path, max_tokens=1000, backend='gptj',\n",
    "                          n_batch=8, callbacks=[StreamingStdOutCallbackHandler()], verbose=VERBOSE)"
   ]
  },
  {
   "cell_type": "code",
   "execution_count": 1,
   "metadata": {},
   "outputs": [],
   "source": [
    "from langchain.embeddings import HuggingFaceEmbeddings\n",
    "from langchain.vectorstores import Chroma\n",
    "from chromadb.config import Settings\n",
    "import chromadb\n",
    "\n",
    "\n",
    "persist_directory = \"vectorstore/\"\n",
    "embedding_model = \"uer/sbert-base-chinese-nli\"\n",
    "top_k = 3\n",
    "CHROMA_SETTINGS = Settings(\n",
    "    persist_directory=persist_directory,\n",
    "    anonymized_telemetry=False\n",
    ")\n",
    "\n",
    "\n",
    "embeddings = HuggingFaceEmbeddings(model_name=embedding_model)\n",
    "chroma_client = chromadb.PersistentClient(settings=CHROMA_SETTINGS , path=persist_directory)\n",
    "vectordb = Chroma(persist_directory=persist_directory, embedding_function=embeddings, client_settings=CHROMA_SETTINGS, client=chroma_client)\n",
    "\n",
    "retriever = vectordb.as_retriever(search_kwargs={\"k\": top_k})"
   ]
  },
  {
   "cell_type": "code",
   "execution_count": null,
   "metadata": {},
   "outputs": [],
   "source": [
    "from langchain.prompts import PromptTemplate\n",
    "from langchain.chains.llm import LLMChain\n",
    "from langchain.chains.combine_documents.stuff import StuffDocumentsChain\n",
    "\n",
    "\n",
    "# questions and queries from embedding \n",
    "TEMPLATE_QNQS = \"\"\"Here are some ground truth queries below, to help query generation:\n",
    "\n",
    "{qnqs}\n",
    "\"\"\"\n",
    "document_prompt_template = PromptTemplate(\n",
    "    input_variables=[\"qnqs\"],\n",
    "    template=TEMPLATE_QNQS)\n",
    "\n",
    "\n",
    "combine_docs_chain = StuffDocumentsChain(\n",
    "    llm_chain=LLMChain(llm=llm),\n",
    "    document_prompt=document_prompt_template,\n",
    "\n",
    ")"
   ]
  },
  {
   "cell_type": "code",
   "execution_count": null,
   "metadata": {},
   "outputs": [],
   "source": [
    "\n",
    "\n",
    "TEMPLATE_ = \"\"\"Given an input question, first create a syntactically correct {dialect} query to run, then look at the results of the query and return the answer.\n",
    "Use the following format:\n",
    "\n",
    "Question: \"Question here\"\n",
    "SQLQuery: \"SQL Query to run\"\n",
    "SQLResult: \"Result of the SQLQuery\"\n",
    "Answer: \"Final answer here\"\n",
    "\n",
    "Only use the following tables:\n",
    "\n",
    "{table_info}.\n",
    "\n",
    "Some examples of SQL queries that corrsespond to questions are:\n",
    "\n",
    "{few_shot_examples}\n",
    "\n",
    "Question: {input}\"\"\"\n",
    "\n",
    "CUSTOM_PROMPT = PromptTemplate(\n",
    "    input_variables=[\"input\", \"few_shot_examples\", \"table_info\", \"dialect\"], template=TEMPLATE\n",
    ")\n",
    "\n",
    "# Create chain with LangChain Expression Language\n",
    "inputs = {\n",
    "    \"table_info\": lambda x: db.get_table_info(),\n",
    "    \"input\": lambda x: x[\"question\"],\n",
    "    \"few_shot_examples\": lambda x: combine_docs_chain.combine_docs(),\n",
    "    \"dialect\": lambda x: db.dialect,\n",
    "}\n",
    "sql_response = (\n",
    "    inputs\n",
    "    | prompt\n",
    "    | model.bind(stop=[\"\\nSQLResult:\"])\n",
    "    | StrOutputParser()\n",
    ")"
   ]
  },
  {
   "cell_type": "code",
   "execution_count": null,
   "metadata": {},
   "outputs": [],
   "source": []
  },
  {
   "cell_type": "code",
   "execution_count": null,
   "metadata": {},
   "outputs": [],
   "source": [
    "from langchain.chains import create_sql_query_chain\n",
    "\n",
    "chain = create_sql_query_chain()"
   ]
  }
 ],
 "metadata": {
  "kernelspec": {
   "display_name": "gnn",
   "language": "python",
   "name": "python3"
  },
  "language_info": {
   "codemirror_mode": {
    "name": "ipython",
    "version": 3
   },
   "file_extension": ".py",
   "mimetype": "text/x-python",
   "name": "python",
   "nbconvert_exporter": "python",
   "pygments_lexer": "ipython3",
   "version": "3.11.4"
  },
  "orig_nbformat": 4
 },
 "nbformat": 4,
 "nbformat_minor": 2
}
